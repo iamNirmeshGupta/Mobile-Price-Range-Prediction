{
  "nbformat": 4,
  "nbformat_minor": 0,
  "metadata": {
    "colab": {
      "provenance": [],
      "authorship_tag": "ABX9TyML0vsRUod45/GrnPJF/S2G",
      "include_colab_link": true
    },
    "kernelspec": {
      "name": "python3",
      "display_name": "Python 3"
    },
    "language_info": {
      "name": "python"
    }
  },
  "cells": [
    {
      "cell_type": "markdown",
      "metadata": {
        "id": "view-in-github",
        "colab_type": "text"
      },
      "source": [
        "<a href=\"https://colab.research.google.com/github/iamNirmeshGupta/Mobile-Price-Range-Prediction/blob/main/Mobile_Price_Range_Prediction_Nirmesh_Gupta_Individual_Notebook.ipynb\" target=\"_parent\"><img src=\"https://colab.research.google.com/assets/colab-badge.svg\" alt=\"Open In Colab\"/></a>"
      ]
    },
    {
      "cell_type": "markdown",
      "source": [
        "##**In the competitive mobile phone market, companies want to understand sales data of mobile phones and factors which drive the prices. The objective is to find out some relation between features of a mobile phone(eg:- RAM, Internal Memory, etc) and its selling price. In this problem, we do not have to predict the actual price but a price range indicating how high the price is.**"
      ],
      "metadata": {
        "id": "NdcpszSfy3UL"
      }
    },
    {
      "cell_type": "markdown",
      "source": [
        "###**Data Description -**\n",
        "\n",
        "**Battery_power** - Total energy a battery can store in one time measured in mAh. \\\n",
        "**Blue** - Has bluetooth or not. \\\n",
        "**Clock_speed** - speed at which microprocessor executes instructions. \\\n",
        "**Dual_sim** - Has dual sim support or not. \\\n",
        "**Fc** - Front Camera mega pixels. \\\n",
        "**Four_g** - Has 4G or not. \\\n",
        "**Int_memory** - Internal Memory in Gigabytes. \\\n",
        "**M_dep** - Mobile Depth in cm. \\\n",
        "**Mobile_wt** - Weight of mobile phone. \\\n",
        " \n",
        "**N_cores** - Number of cores of processor. \\\n",
        "**Pc** - Primary Camera mega pixels. \\\n",
        "**Px_height** - Pixel Resolution Height. \\\n",
        "**Px_width** - Pixel Resolution Width. \\\n",
        "**Ram** - Random Access Memory in Mega bytes. \\\n",
        "**Touch_screen** - Has touch screen or not. \\\n",
        "**Wifi** - Has wifi or not. \\\n",
        "**Sc_h** - Screen Height of mobile in cm. \\\n",
        "**Sc_w** - Screen Width of mobile in cm. \\\n",
        "**Talk_time** - longest time that a single battery charge will last when you are talking on the phone. \\\n",
        "**Three_g** - Has 3G or not. \\\n",
        "**Wifi** - Has wifi or not. \\\n",
        "**Price_range** - This is the target variable with value of 0(low-cost), 1(medium-cost), 2(high-cost) and 3(very-high-cost)."
      ],
      "metadata": {
        "id": "AKU_5AIhz1oJ"
      }
    },
    {
      "cell_type": "code",
      "execution_count": null,
      "metadata": {
        "id": "3sV9tgqqyrZL"
      },
      "outputs": [],
      "source": []
    },
    {
      "cell_type": "code",
      "source": [
        "#  Importing all the necessary libraries\n",
        "\n",
        "import numpy as np\n",
        "import pandas as pd\n",
        "\n",
        "import matplotlib.pyplot as plt\n",
        "import seaborn as sns\n",
        "\n",
        "from sklearn.model_selection import train_test_split\n",
        "\n",
        "from sklearn.ensemble import RandomForestClassifier\n",
        "from sklearn.neighbors import KNeighborsClassifier\n",
        "from sklearn.ensemble import StackingClassifier\n",
        "from sklearn.tree import DecisionTreeClassifier\n",
        "from sklearn.naive_bayes import GaussianNB\n",
        "from sklearn.svm import SVC\n",
        "\n",
        "from sklearn.pipeline import make_pipeline\n",
        "\n",
        "from sklearn.preprocessing import StandardScaler\n",
        "from sklearn.impute import SimpleImputer\n",
        "\n",
        "from sklearn.metrics import roc_auc_score\n",
        "from sklearn.model_selection import cross_val_score\n",
        "from sklearn.metrics import classification_report,confusion_matrix\n",
        "\n",
        "from sklearn.model_selection import RepeatedStratifiedKFold\n",
        "from sklearn.model_selection import GridSearchCV\n",
        "\n",
        "import warnings\n",
        "warnings.filterwarnings(\"ignore\")"
      ],
      "metadata": {
        "id": "-sYsyuXi2kXO"
      },
      "execution_count": 1,
      "outputs": []
    },
    {
      "cell_type": "code",
      "source": [
        "# "
      ],
      "metadata": {
        "id": "NtzVF2LY-qa5"
      },
      "execution_count": null,
      "outputs": []
    }
  ]
}